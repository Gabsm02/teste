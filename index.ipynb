{
 "cells": [
  {
   "cell_type": "code",
   "execution_count": 42,
   "id": "03fcfdfb",
   "metadata": {},
   "outputs": [
    {
     "name": "stdout",
     "output_type": "stream",
     "text": [
      "Arquivo atualizado com sucesso!\n"
     ]
    }
   ],
   "source": [
    "import pandas as pd\n",
    "\n",
    "# Carrega a planilha\n",
    "arquivo = \"Dashboard Executivo Celldowntime.xlsx\"\n",
    "df = pd.read_excel(arquivo, engine='openpyxl')\n",
    "\n",
    "# Aplica filtro: mantém apenas registros com UF = \"BA\"\n",
    "if \"UF\" in df.columns:\n",
    "    df = df[df[\"UF\"] == \"BA\"]\n",
    "\n",
    "# Remove as colunas \"CN\" e \"Selo\" se existirem\n",
    "for coluna in [\"CN\", \"Selo\"]:\n",
    "    if coluna in df.columns:\n",
    "        df.drop(columns=[coluna], inplace=True)\n",
    "\n",
    "# Renomeia a coluna \"Coordenação\" para \"Rota\" se existir\n",
    "if \"COORDENAÇÃO\" in df.columns:\n",
    "    df.rename(columns={\"COORDENAÇÃO\": \"ROTA\"}, inplace=True)\n",
    "\n",
    "# Salva o resultado em um novo arquivo\n",
    "df.to_excel(\"planilha_limpa.xlsx\", index=False)\n",
    "\n",
    "print(\"Arquivo atualizado com sucesso!\") \n",
    "\n"
   ]
  },
  {
   "cell_type": "code",
   "execution_count": 43,
   "id": "683d6360",
   "metadata": {},
   "outputs": [],
   "source": [
    "# Carrega as planilhas\n",
    "planilha1 = pd.read_excel('planilha_limpa.xlsx', engine='openpyxl')\n",
    "planilha2 = pd.read_excel('Tabela de Rotas.xlsx', engine='openpyxl')\n",
    "\n",
    "# Remove duplicatas para garantir correspondência única por município\n",
    "rotas_unicas = planilha2[['MUNICÍPIO', 'ROTA']].drop_duplicates(subset='MUNICÍPIO')\n",
    "\n",
    "# Remove a coluna 'ROTA' da planilha limpa, se já existir\n",
    "if 'ROTA' in planilha1.columns:\n",
    "    planilha1 = planilha1.drop(columns=['ROTA'])\n",
    "\n",
    "# Faz o merge com base na coluna 'MUNICÍPIO'\n",
    "planilha_final = pd.merge(planilha1, rotas_unicas, on='MUNICÍPIO', how='left')\n",
    "\n",
    "\n",
    "# Define a nova ordem das colunas\n",
    "nova_ordem = [\n",
    "     'EVENTO', 'UF', 'MUNICÍPIO', 'SITE', 'ROTA', 'DATA CRIAÇÃO', 'GESTOR ATUAL',\n",
    "    'PREVISÃO SOBRESSALENTE'\n",
    "]\n",
    "\n",
    "# Reordena as colunas\n",
    "planilha_final = planilha_final[nova_ordem]\n",
    "\n",
    "\n",
    "# Salva a planilha final\n",
    "planilha_final.to_excel('planilha_atualizada.xlsx', index=False)\n",
    "\n",
    "\n"
   ]
  },
  {
   "cell_type": "code",
   "execution_count": null,
   "id": "9a26910a",
   "metadata": {},
   "outputs": [
    {
     "name": "stdout",
     "output_type": "stream",
     "text": [
      "Planilha final criada com sucesso 1!\n"
     ]
    }
   ],
   "source": [
    "import pandas as pd\n",
    "\n",
    "# Carrega os dados da planilha de backlog\n",
    "backlog = pd.read_excel(\"Backlog_detalhes.xlsx\", engine=\"openpyxl\")\n",
    "\n",
    "# Seleciona apenas as colunas desejadas\n",
    "colunas_desejadas = [\"EVENTO\", \"UF\", \"Ação\", \"Prazo\", \"Status\", \"Fabricante\", \"Modelo\", \"Cod_Modelo\", \"SS\", \"Afetação\"]\n",
    "backlog_filtrado = backlog[colunas_desejadas]\n",
    "\n",
    "# Filtra apenas os registros com UF = \"BA\"\n",
    "backlog_ba = backlog_filtrado[backlog_filtrado[\"UF\"] == \"BA\"]\n",
    "\n",
    "# Carrega a planilha base\n",
    "planilha_limpa = pd.read_excel(\"planilha_atualizada.xlsx\", engine=\"openpyxl\")\n",
    "\n",
    "# Também filtra a planilha base para UF = \"BA\"\n",
    "planilha_limpa_ba = planilha_limpa[planilha_limpa[\"UF\"] == \"BA\"]\n",
    "\n",
    "# Faz o merge com base nas colunas \"Evento\" e \"UF\"\n",
    "resultado = pd.merge(planilha_limpa_ba, backlog_ba, on=[\"EVENTO\", \"UF\"], how=\"left\")\n",
    "\n",
    "# Renomeia a coluna \"Coordenação\" para \"Rota\" se existir\n",
    "if \"COORDENAÇÃO\" in resultado.columns:\n",
    "    df.rename(columns={\"COORDENAÇÃO\": \"Rota\"}, inplace=True)\n",
    "\n",
    "if \"GESTOR ATUAL\" in resultado.columns and \"Status\" in resultado.columns:\n",
    "    resultado.loc[resultado[\"GESTOR ATUAL\"] == \"ICOMON_O&M-BA_SE (Terceiro)\", \"Status\"] = \"Icomon Atuando\"\n",
    "    resultado.loc[resultado[\"GESTOR ATUAL\"] == \"O&M ACESSO VIVO_N1_BA/SE_Sobressalente\", \"Status\"] = \"Sobressalente\"\n",
    "    resultado.loc[resultado[\"GESTOR ATUAL\"] == \"O&M ACESSO VIVO_N1_BA/SE_Acesso\", \"Status\"] = \"Acesso\"\n",
    "    resultado.loc[resultado[\"GESTOR ATUAL\"] == \"O&M ACESSO VIVO_N1_BA/SE_Fatura_B\", \"Status\"] = \"Fatura B\"\n",
    "    resultado.loc[resultado[\"GESTOR ATUAL\"] == \"O&M ACESSO VIVO_N1_BA/SE\", \"Status\"] = \"Vivo Avaliar\"\n",
    "    resultado.loc[resultado[\"GESTOR ATUAL\"] == \"O&M ACESSO VIVO_N1_BA/SE_Falta_AC\", \"Status\"] = \"Vivo Avaliar\"\n",
    "    resultado.loc[resultado[\"GESTOR ATUAL\"] == \"BBN-SOBRESSALENTES\", \"Status\"] = \"Sobressalente\"\n",
    "    resultado.loc[resultado[\"GESTOR ATUAL\"] == \"O&M ACESSO VIVO_N1_BA/SE_Vandalismo\", \"Status\"] = \"Vivo Avaliar\"\n",
    "    resultado.loc[resultado[\"GESTOR ATUAL\"] == \"O&M ACESSO VIVO_N1_NE\", \"Status\"] = \"Vivo Avaliar\"\n",
    "\n",
    "\n",
    "# Salva o resultado em uma nova planilha\n",
    "resultado.to_excel(\"planilha_final.xlsx\", index=False)\n",
    "\n",
    "print(\"Planilha final criada com sucesso!\")\n",
    "\n"
   ]
  }
 ],
 "metadata": {
  "kernelspec": {
   "display_name": "Python 3",
   "language": "python",
   "name": "python3"
  },
  "language_info": {
   "codemirror_mode": {
    "name": "ipython",
    "version": 3
   },
   "file_extension": ".py",
   "mimetype": "text/x-python",
   "name": "python",
   "nbconvert_exporter": "python",
   "pygments_lexer": "ipython3",
   "version": "3.12.1"
  }
 },
 "nbformat": 4,
 "nbformat_minor": 5
}
